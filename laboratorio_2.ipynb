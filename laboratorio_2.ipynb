{
 "cells": [
  {
   "cell_type": "markdown",
   "id": "2054d204",
   "metadata": {},
   "source": [
    "# Laboratorio 2\n",
    "## Ciencias de Datos en Python\n",
    "\n",
    "*20240226*\n",
    "\n",
    "**Diego Morales**\n",
    "\n",
    "- [Ejercicio 1](#Ejercicio-1)\n",
    "- [Ejercicio 2](#Ejercicio-2)\n",
    "- [Ejercicio 3](#Ejercicio-3)\n",
    "- [Ejercicio 4](#Ejercicio-4)\n",
    "- [Ejercicio 5](#Ejercicio-5)\n",
    "- [Ejercicio 6](#Ejercicio-6)\n",
    "- [Ejercicio 7](#Ejercicio-7)\n",
    "- [Ejercicio 8](#Ejercicio-8)"
   ]
  },
  {
   "cell_type": "markdown",
   "id": "854069d1",
   "metadata": {},
   "source": [
    "## Ejercicio 1"
   ]
  },
  {
   "cell_type": "code",
   "execution_count": 57,
   "id": "127fc65a",
   "metadata": {},
   "outputs": [
    {
     "name": "stdout",
     "output_type": "stream",
     "text": [
      "Horas: 0, Minutos: 45, Segundos: 43\n",
      "Horas: 1, Minutos: 37, Segundos: 51\n"
     ]
    }
   ],
   "source": [
    "def to_time(seconds):\n",
    "    assert isinstance(seconds, int), 'Debe ingresar un número entero'\n",
    "    assert seconds>=0, 'Debe ingresar un número positivo'\n",
    "    hours = seconds//3600\n",
    "    seconds %= 3600\n",
    "    minutes = seconds//60\n",
    "    seconds %= 60\n",
    "\n",
    "    print(f'Horas: {hours}, Minutos: {minutes}, Segundos: {seconds}')\n",
    "\n",
    "to_time(2743)\n",
    "to_time(5871)\n"
   ]
  },
  {
   "cell_type": "markdown",
   "id": "9547d02e",
   "metadata": {},
   "source": [
    "## Ejercicio 2"
   ]
  },
  {
   "cell_type": "code",
   "execution_count": 33,
   "id": "507c3558",
   "metadata": {},
   "outputs": [
    {
     "name": "stdout",
     "output_type": "stream",
     "text": [
      "*\n",
      "**\n",
      "***\n",
      "****\n",
      "--------------------\n",
      "****\n",
      "***\n",
      "**\n",
      "*\n",
      "--------------------\n",
      " *\n",
      " **\n",
      "***\n",
      "****\n",
      "--------------------\n",
      "****\n",
      "***\n",
      " **\n",
      " *\n",
      "--------------------\n"
     ]
    }
   ],
   "source": [
    "def triangular(number, symbol):\n",
    "    for i in range(1, number+1, 1):\n",
    "        print(i*symbol)\n",
    "    print('-'*20)\n",
    "\n",
    "    for i in range(number, 0, -1):\n",
    "        print(i*symbol)\n",
    "    print('-'*20)\n",
    "\n",
    "    for i in range(1, number+1, 1):\n",
    "        print(' '*((number-i)//2)+i*symbol)\n",
    "    print('-'*20)\n",
    "\n",
    "    for i in range(number, 0, -1):\n",
    "        print(' '*((number-i)//2)+i*symbol)\n",
    "    print('-'*20)\n",
    "\n",
    "triangular(4, '*')"
   ]
  },
  {
   "cell_type": "markdown",
   "id": "7e5d454f",
   "metadata": {},
   "source": [
    "## Ejercicio 3"
   ]
  },
  {
   "cell_type": "code",
   "execution_count": 50,
   "id": "976b5d08",
   "metadata": {},
   "outputs": [
    {
     "name": "stdout",
     "output_type": "stream",
     "text": [
      "Tienes 28 años, 6 meses y 20 días\n"
     ]
    }
   ],
   "source": [
    "from datetime import datetime\n",
    "\n",
    "def to_age(day, month, year):\n",
    "    today = datetime.now()\n",
    "    if year*100+month< today.year*100+today.month:\n",
    "        age_year = today.year - year - 1 \n",
    "    else:\n",
    "        age_year = today.year - year\n",
    "    if month < today.month:\n",
    "        age_month = today.month - month\n",
    "    else:\n",
    "        age_month = month - today.month\n",
    "    if day < today.day:\n",
    "        age_day = today.day - day\n",
    "    else:\n",
    "        age_day = day - today.day\n",
    "    print(f'Tienes {age_year} años, {age_month} meses y {age_day} días')\n",
    "\n",
    "to_age(6, 8, 1995)"
   ]
  },
  {
   "cell_type": "markdown",
   "id": "069a9ae8",
   "metadata": {},
   "source": [
    "## Ejercicio 4"
   ]
  },
  {
   "cell_type": "code",
   "execution_count": 58,
   "id": "f88b16ea",
   "metadata": {},
   "outputs": [
    {
     "data": {
      "text/plain": [
       "'102040570'"
      ]
     },
     "execution_count": 58,
     "metadata": {},
     "output_type": "execute_result"
    }
   ],
   "source": [
    "def to_string(values):\n",
    "    assert isinstance(values, tuple)\n",
    "    return ''.join([str(i) for i in values])\n",
    "\n",
    "to_string((10, 20, 40, 5, 70))"
   ]
  },
  {
   "cell_type": "markdown",
   "id": "36f6e6f3",
   "metadata": {},
   "source": [
    "## Ejercicio 5\n",
    "\n",
    "Cree un programa en Python que dada una lista de tuplas, elimine las tuplas que est ́an vac ́ıas. Tomar nota del siguiente ejemplo:\n",
    "Si la lista fuera: [(), (), (’X’,), (’a’, ’b’), (’a’, ’b’, ’c’), (’d’)] El resultado deber ́ıa ser: [(’X’), (’a’, ’b’), (’a’, ’b’, ’c’), ’d’]"
   ]
  },
  {
   "cell_type": "code",
   "execution_count": 76,
   "id": "e0d030e5",
   "metadata": {},
   "outputs": [
    {
     "data": {
      "text/plain": [
       "[('X',), ('a', 'b'), ('a', 'b', 'd'), 'd']"
      ]
     },
     "execution_count": 76,
     "metadata": {},
     "output_type": "execute_result"
    }
   ],
   "source": [
    "def drop_empty(values):\n",
    "    return [value for value in values if len(value)>0]\n",
    "\n",
    "drop_empty([(), (), ('X',), ('a', 'b'), ('a', 'b', 'd'), ('d')])"
   ]
  },
  {
   "cell_type": "markdown",
   "id": "c312a681",
   "metadata": {},
   "source": [
    "## Ejercicio 6"
   ]
  },
  {
   "cell_type": "code",
   "execution_count": 84,
   "id": "01121d55",
   "metadata": {},
   "outputs": [
    {
     "data": {
      "text/plain": [
       "(10.5, 44.0, 58.0)"
      ]
     },
     "execution_count": 84,
     "metadata": {},
     "output_type": "execute_result"
    }
   ],
   "source": [
    "\n",
    "def tuple_average(values):\n",
    "    return tuple([sum(value)/len(value) for value in values])\n",
    "\n",
    "tuple_average(((10, 10, 10, 12), (30, 45, 56, 45), (81, 80, 39, 32)))"
   ]
  },
  {
   "cell_type": "markdown",
   "id": "12fb1d9a",
   "metadata": {},
   "source": [
    "## Ejercicio 7"
   ]
  },
  {
   "cell_type": "code",
   "execution_count": 11,
   "id": "d31d5ef4",
   "metadata": {},
   "outputs": [
    {
     "name": "stdout",
     "output_type": "stream",
     "text": [
      "----------------\n",
      "Factura 1.0.0\n",
      "----------------\n",
      "[1] Añadir nueva factura\n",
      "[2] Pagar una factura existente\n",
      "[3] Finalizar\n",
      "Nueva Factura\n",
      "Número: 7889\n",
      "Costo: 3200.0\n",
      "[INFO] Factura {num_factura} registrada exitosamente\n",
      "Pagado: 0\n",
      "Pendiente: 4699.9400000000005\n",
      "----------------\n",
      "Factura 1.0.0\n",
      "----------------\n",
      "[1] Añadir nueva factura\n",
      "[2] Pagar una factura existente\n",
      "[3] Finalizar\n",
      "Número\tCosto\n",
      "3254\t99.95\n",
      "5498\t1399.99\n",
      "7889\t3200.0\n",
      "[INFO] Factura 5498 pagada exitosamente\n",
      "Pagado: 1399.99\n",
      "Pendiente: 3299.95\n",
      "----------------\n",
      "Factura 1.0.0\n",
      "----------------\n",
      "[1] Añadir nueva factura\n",
      "[2] Pagar una factura existente\n",
      "[3] Finalizar\n"
     ]
    }
   ],
   "source": [
    "dict_facturas = {3254: 99.95, 5498: 1399.99} # valores de ejemplo\n",
    "paid = 0 \n",
    "\n",
    "while True:\n",
    "    print(f'{\"-\"*16}\\nFactura 1.0.0\\n{\"-\"*16}')\n",
    "    print('[1] Añadir nueva factura')\n",
    "    print('[2] Pagar una factura existente')\n",
    "    print('[3] Finalizar')\n",
    "    try:\n",
    "        option = int(input('Ingrese una opción: '))\n",
    "    except ValueError:\n",
    "        print('[ERROR] Ingrese un número')\n",
    "        continue\n",
    "\n",
    "    if option==1:\n",
    "        while True:\n",
    "            while True:\n",
    "                try:\n",
    "                    num_factura = int(input('Número de factura: '))\n",
    "                except ValueError:\n",
    "                    print('[ERROR] Ingrese un número válido')\n",
    "                    continue\n",
    "                if num_factura<1000 or num_factura>9999:\n",
    "                    print('[ERROR] El código de factura es inválido')\n",
    "                    continue\n",
    "                else:\n",
    "                    break\n",
    "            while True:\n",
    "                try:\n",
    "                    costo_factura = float(input('Costo de factura: '))\n",
    "                except ValueError:\n",
    "                    print('[ERROR] Ingrese un número decimal válido')\n",
    "                    continue\n",
    "                if costo_factura<0:\n",
    "                    print('[ERROR] El costo no puede ser negativo')\n",
    "                    continue\n",
    "                else:\n",
    "                    break\n",
    "            print(f\"Nueva Factura\\nNúmero: {num_factura}\\nCosto: {costo_factura}\")\n",
    "            ans = input('[y/n] ¿Desea registrar la factura?')\n",
    "            if ans.lower()=='y':\n",
    "                dict_facturas.update({num_factura: costo_factura})\n",
    "                print('[INFO] Factura {num_factura} registrada exitosamente')\n",
    "                break\n",
    "            else:\n",
    "                print('[INFO] La factura no se registrará')\n",
    "\n",
    "    elif option==2:\n",
    "        print('Número\\tCosto')\n",
    "        for num, costo in dict_facturas.items():\n",
    "            print(f'{num}\\t{costo}')\n",
    "        while True:\n",
    "            num_factura = int(input('Escriba el número de factura a pagar'))\n",
    "            if num_factura in dict_facturas.keys():\n",
    "                paid += dict_facturas.pop(num_factura)\n",
    "                print(f'[INFO] Factura {num_factura} pagada exitosamente')\n",
    "                break\n",
    "            else:\n",
    "                print('[ERROR] El número de factura no es válido')\n",
    "    elif option==3:\n",
    "        break\n",
    "    else:\n",
    "        print('[ERROR] Ingrese una opción válida')\n",
    "\n",
    "    pending = sum(dict_facturas.values())\n",
    "    print(f'Pagado: {paid}')\n",
    "    print(f'Pendiente: {pending}')\n"
   ]
  },
  {
   "cell_type": "markdown",
   "id": "09e886fa",
   "metadata": {},
   "source": [
    "## Ejercicio 8"
   ]
  },
  {
   "cell_type": "code",
   "execution_count": 16,
   "id": "10551411",
   "metadata": {},
   "outputs": [
    {
     "data": {
      "text/plain": [
       "{'C01',\n",
       " 'C02',\n",
       " 'C03',\n",
       " 'C04',\n",
       " 'C05',\n",
       " 'C06',\n",
       " 'C07',\n",
       " 'C08',\n",
       " 'C09',\n",
       " 'C10',\n",
       " 'C11',\n",
       " 'C12',\n",
       " 'C13',\n",
       " 'E01',\n",
       " 'E02',\n",
       " 'E03',\n",
       " 'E04',\n",
       " 'E05',\n",
       " 'E06',\n",
       " 'E07',\n",
       " 'E08',\n",
       " 'E09',\n",
       " 'E10',\n",
       " 'E11',\n",
       " 'E12',\n",
       " 'E13',\n",
       " 'P01',\n",
       " 'P02',\n",
       " 'P03',\n",
       " 'P04',\n",
       " 'P05',\n",
       " 'P06',\n",
       " 'P07',\n",
       " 'P08',\n",
       " 'P09',\n",
       " 'P10',\n",
       " 'P11',\n",
       " 'P12',\n",
       " 'P13',\n",
       " 'T01',\n",
       " 'T02',\n",
       " 'T03',\n",
       " 'T04',\n",
       " 'T05',\n",
       " 'T06',\n",
       " 'T07',\n",
       " 'T08',\n",
       " 'T09',\n",
       " 'T10',\n",
       " 'T11',\n",
       " 'T12',\n",
       " 'T13'}"
      ]
     },
     "execution_count": 16,
     "metadata": {},
     "output_type": "execute_result"
    }
   ],
   "source": [
    "def get_deck():\n",
    "    deck = []\n",
    "    for shape in ['T', 'C', 'P', 'E']:\n",
    "        for number in range(1, 14):\n",
    "            deck.append(f'{shape}{number:02}')\n",
    "    return set(deck)\n",
    "\n",
    "get_deck()"
   ]
  },
  {
   "cell_type": "code",
   "execution_count": 55,
   "id": "12ca7bfe",
   "metadata": {},
   "outputs": [
    {
     "name": "stdout",
     "output_type": "stream",
     "text": [
      "{'C02', 'P06', 'E11', 'P13', 'T10', 'E03'}\n",
      "{'E12', 'T05', 'P04', 'P09', 'P03', 'E02', 'E03', 'P11', 'E08'}\n"
     ]
    }
   ],
   "source": [
    "import random\n",
    "\n",
    "deck = get_deck()\n",
    "deck_1 = set(random.sample(tuple(deck), random.randint(1, len(deck))))\n",
    "deck_2 = set(random.sample(tuple(deck), random.randint(1, len(deck))))\n",
    "print(deck_1)\n",
    "print(deck_2)"
   ]
  },
  {
   "cell_type": "markdown",
   "id": "51f7a139",
   "metadata": {},
   "source": [
    "Adicionalmente, deber ́a calcular la probabilidad de la intersecci ́on de ambos conjuntos y de- muestre si son eventos independientes con la regla del producto.\n",
    "Para concluir, calcule probabilidad de la uni ́on de ambos conjuntos y demuestre que se cumple la regla de la adici ́on."
   ]
  },
  {
   "cell_type": "code",
   "execution_count": null,
   "id": "f53a1353",
   "metadata": {},
   "outputs": [],
   "source": []
  }
 ],
 "metadata": {
  "kernelspec": {
   "display_name": "Python 3 (ipykernel)",
   "language": "python",
   "name": "python3"
  },
  "language_info": {
   "codemirror_mode": {
    "name": "ipython",
    "version": 3
   },
   "file_extension": ".py",
   "mimetype": "text/x-python",
   "name": "python",
   "nbconvert_exporter": "python",
   "pygments_lexer": "ipython3",
   "version": "3.11.5"
  }
 },
 "nbformat": 4,
 "nbformat_minor": 5
}
