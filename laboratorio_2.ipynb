{
 "cells": [
  {
   "cell_type": "markdown",
   "id": "2054d204",
   "metadata": {},
   "source": [
    "# Laboratorio 2\n",
    "## Ciencias de Datos en Python\n",
    "\n",
    "*20240226*\n",
    "\n",
    "**Diego Morales**\n",
    "\n",
    "- [Ejercicio 1](#Ejercicio-1)\n",
    "- [Ejercicio 2](#Ejercicio-2)\n",
    "- [Ejercicio 3](#Ejercicio-3)\n",
    "- [Ejercicio 4](#Ejercicio-4)\n",
    "- [Ejercicio 5](#Ejercicio-5)\n",
    "- [Ejercicio 6](#Ejercicio-6)\n",
    "- [Ejercicio 7](#Ejercicio-7)\n",
    "- [Ejercicio 8](#Ejercicio-8)"
   ]
  },
  {
   "cell_type": "markdown",
   "id": "854069d1",
   "metadata": {},
   "source": [
    "## Ejercicio 1"
   ]
  },
  {
   "cell_type": "code",
   "execution_count": 57,
   "id": "127fc65a",
   "metadata": {},
   "outputs": [
    {
     "name": "stdout",
     "output_type": "stream",
     "text": [
      "Horas: 0, Minutos: 45, Segundos: 43\n",
      "Horas: 1, Minutos: 37, Segundos: 51\n"
     ]
    }
   ],
   "source": [
    "def to_time(seconds):\n",
    "    assert isinstance(seconds, int), 'Debe ingresar un número entero'\n",
    "    assert seconds>=0, 'Debe ingresar un número positivo'\n",
    "    hours = seconds//3600\n",
    "    seconds %= 3600\n",
    "    minutes = seconds//60\n",
    "    seconds %= 60\n",
    "\n",
    "    print(f'Horas: {hours}, Minutos: {minutes}, Segundos: {seconds}')\n",
    "\n",
    "to_time(2743)\n",
    "to_time(5871)\n"
   ]
  },
  {
   "cell_type": "markdown",
   "id": "9547d02e",
   "metadata": {},
   "source": [
    "## Ejercicio 2"
   ]
  },
  {
   "cell_type": "code",
   "execution_count": 33,
   "id": "507c3558",
   "metadata": {},
   "outputs": [
    {
     "name": "stdout",
     "output_type": "stream",
     "text": [
      "*\n",
      "**\n",
      "***\n",
      "****\n",
      "--------------------\n",
      "****\n",
      "***\n",
      "**\n",
      "*\n",
      "--------------------\n",
      " *\n",
      " **\n",
      "***\n",
      "****\n",
      "--------------------\n",
      "****\n",
      "***\n",
      " **\n",
      " *\n",
      "--------------------\n"
     ]
    }
   ],
   "source": [
    "def triangular(number, symbol):\n",
    "    for i in range(1, number+1, 1):\n",
    "        print(i*symbol)\n",
    "    print('-'*20)\n",
    "\n",
    "    for i in range(number, 0, -1):\n",
    "        print(i*symbol)\n",
    "    print('-'*20)\n",
    "\n",
    "    for i in range(1, number+1, 1):\n",
    "        print(' '*((number-i)//2)+i*symbol)\n",
    "    print('-'*20)\n",
    "\n",
    "    for i in range(number, 0, -1):\n",
    "        print(' '*((number-i)//2)+i*symbol)\n",
    "    print('-'*20)\n",
    "\n",
    "triangular(4, '*')"
   ]
  },
  {
   "cell_type": "markdown",
   "id": "7e5d454f",
   "metadata": {},
   "source": [
    "## Ejercicio 3"
   ]
  },
  {
   "cell_type": "code",
   "execution_count": 50,
   "id": "976b5d08",
   "metadata": {},
   "outputs": [
    {
     "name": "stdout",
     "output_type": "stream",
     "text": [
      "Tienes 28 años, 6 meses y 20 días\n"
     ]
    }
   ],
   "source": [
    "from datetime import datetime\n",
    "\n",
    "def to_age(day, month, year):\n",
    "    today = datetime.now()\n",
    "    if year*100+month< today.year*100+today.month:\n",
    "        age_year = today.year - year - 1 \n",
    "    else:\n",
    "        age_year = today.year - year\n",
    "    if month < today.month:\n",
    "        age_month = today.month - month\n",
    "    else:\n",
    "        age_month = month - today.month\n",
    "    if day < today.day:\n",
    "        age_day = today.day - day\n",
    "    else:\n",
    "        age_day = day - today.day\n",
    "    print(f'Tienes {age_year} años, {age_month} meses y {age_day} días')\n",
    "\n",
    "to_age(6, 8, 1995)"
   ]
  },
  {
   "cell_type": "markdown",
   "id": "069a9ae8",
   "metadata": {},
   "source": [
    "## Ejercicio 4"
   ]
  },
  {
   "cell_type": "code",
   "execution_count": 58,
   "id": "f88b16ea",
   "metadata": {},
   "outputs": [
    {
     "data": {
      "text/plain": [
       "'102040570'"
      ]
     },
     "execution_count": 58,
     "metadata": {},
     "output_type": "execute_result"
    }
   ],
   "source": [
    "def to_string(values):\n",
    "    assert isinstance(values, tuple)\n",
    "    return ''.join([str(i) for i in values])\n",
    "\n",
    "to_string((10, 20, 40, 5, 70))"
   ]
  },
  {
   "cell_type": "markdown",
   "id": "36f6e6f3",
   "metadata": {},
   "source": [
    "## Ejercicio 5\n",
    "\n",
    "Cree un programa en Python que dada una lista de tuplas, elimine las tuplas que est ́an vac ́ıas. Tomar nota del siguiente ejemplo:\n",
    "Si la lista fuera: [(), (), (’X’,), (’a’, ’b’), (’a’, ’b’, ’c’), (’d’)] El resultado deber ́ıa ser: [(’X’), (’a’, ’b’), (’a’, ’b’, ’c’), ’d’]"
   ]
  },
  {
   "cell_type": "code",
   "execution_count": 76,
   "id": "e0d030e5",
   "metadata": {},
   "outputs": [
    {
     "data": {
      "text/plain": [
       "[('X',), ('a', 'b'), ('a', 'b', 'd'), 'd']"
      ]
     },
     "execution_count": 76,
     "metadata": {},
     "output_type": "execute_result"
    }
   ],
   "source": [
    "def drop_empty(values):\n",
    "    return [value for value in values if len(value)>0]\n",
    "\n",
    "drop_empty([(), (), ('X',), ('a', 'b'), ('a', 'b', 'd'), ('d')])"
   ]
  },
  {
   "cell_type": "markdown",
   "id": "c312a681",
   "metadata": {},
   "source": [
    "## Ejercicio 6"
   ]
  },
  {
   "cell_type": "code",
   "execution_count": 84,
   "id": "01121d55",
   "metadata": {},
   "outputs": [
    {
     "data": {
      "text/plain": [
       "(10.5, 44.0, 58.0)"
      ]
     },
     "execution_count": 84,
     "metadata": {},
     "output_type": "execute_result"
    }
   ],
   "source": [
    "\n",
    "def tuple_average(values):\n",
    "    return tuple([sum(value)/len(value) for value in values])\n",
    "\n",
    "tuple_average(((10, 10, 10, 12), (30, 45, 56, 45), (81, 80, 39, 32)))"
   ]
  },
  {
   "cell_type": "markdown",
   "id": "12fb1d9a",
   "metadata": {},
   "source": [
    "## Ejercicio 7"
   ]
  },
  {
   "cell_type": "code",
   "execution_count": null,
   "id": "d31d5ef4",
   "metadata": {},
   "outputs": [],
   "source": []
  },
  {
   "cell_type": "markdown",
   "id": "09e886fa",
   "metadata": {},
   "source": [
    "## Ejercicio 8"
   ]
  },
  {
   "cell_type": "code",
   "execution_count": null,
   "id": "5cb38460",
   "metadata": {},
   "outputs": [],
   "source": []
  }
 ],
 "metadata": {
  "kernelspec": {
   "display_name": "Python 3 (ipykernel)",
   "language": "python",
   "name": "python3"
  },
  "language_info": {
   "codemirror_mode": {
    "name": "ipython",
    "version": 3
   },
   "file_extension": ".py",
   "mimetype": "text/x-python",
   "name": "python",
   "nbconvert_exporter": "python",
   "pygments_lexer": "ipython3",
   "version": "3.11.5"
  }
 },
 "nbformat": 4,
 "nbformat_minor": 5
}
